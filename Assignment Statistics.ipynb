{
 "cells": [
  {
   "cell_type": "code",
   "execution_count": null,
   "id": "eeb71de9-9d62-4840-b9fb-0ffb6ddca1d9",
   "metadata": {},
   "outputs": [],
   "source": [
    "Q1. What is Statistics?\n",
    "ans:-Statistics is the science concerned with developing and studying methods for collecting, analyzing, interpreting and presenting empirical data.\n",
    "\n"
   ]
  },
  {
   "cell_type": "code",
   "execution_count": null,
   "id": "d2127310-8830-475f-973b-4475b7030c8f",
   "metadata": {},
   "outputs": [],
   "source": [
    "Q2. Define the different types of statistics and give an example of when each type might be used.\n",
    "ans:-Descriptive statistics and inferential statistics\n",
    "\n",
    "Descriptive statistics \n",
    "eg:-Central tendency,measure of dispersion,different tyes of distribution data\n",
    "\n",
    "inferential statistics\n",
    "eg:-Measures of inferential statistics are t-test, z test, linear regression"
   ]
  },
  {
   "cell_type": "code",
   "execution_count": null,
   "id": "6e98568b-3b6d-4f3a-97e4-1fc0ee014db6",
   "metadata": {},
   "outputs": [],
   "source": [
    "Q3. What are the different types of data and how do they differ from each other? Provide an example of\n",
    "each type of data.\n",
    "ans:-Quantitative data and Qualitqtive data\n",
    "Quantitative data\n",
    "1)Discrete data\n",
    "eg:-No. of student in a class,No. of bank account in bank\n",
    "2)Continuous data\n",
    "eg:-Weight,Height,Temp.,etc.\n",
    "\n",
    "Qualitative data\n",
    "1)Nominal data\n",
    "eg:-Gender,colour,blood group,pincode\n",
    "2)Ordinal data\n",
    "eg:-rank\n"
   ]
  },
  {
   "cell_type": "code",
   "execution_count": null,
   "id": "ccefdc39-ffbe-4835-94cb-f309b568f51b",
   "metadata": {},
   "outputs": [],
   "source": [
    "Q4. Categorise the following datasets with respect to quantitative and qualitative data types:\n",
    "(i) Grading in exam: A+, A, B+, B, C+, C, D, E\n",
    "ans:-Ordinal data\n",
    "\n",
    "(ii) Colour of mangoes: yellow, green, orange, red\n",
    "ans:-Nominal data\n",
    "\n",
    "(iii) Height data of a class: [178.9, 179, 179.5, 176, 177.2, 178.3, 175.8,...]\n",
    "ans:-Continuous data\n",
    "\n",
    "(iv) Number of mangoes exported by a farm: [500, 600, 478, 672, ...]\n",
    "ans:-Discrete data"
   ]
  },
  {
   "cell_type": "code",
   "execution_count": null,
   "id": "461b137b-6713-4a11-b943-3b2f5588e6f3",
   "metadata": {},
   "outputs": [],
   "source": [
    "Q5. Explain the concept of levels of measurement and give an example of a variable for each level.\n",
    "ans:-Levels of measurement, also called scales of measurement\n",
    "1)Nominal scale data: the data can only be categorized\n",
    "2)Ordinal scale data: the data can be categorized and ranked\n",
    "3)Interval scale data: the data can be categorized, ranked, and evenly spaced\n",
    "4)Ratio scale data: the data can be categorized, ranked, evenly spaced, and has a natural zero."
   ]
  },
  {
   "cell_type": "code",
   "execution_count": null,
   "id": "16903172-c2d3-4d4c-8234-90c7706abce5",
   "metadata": {},
   "outputs": [],
   "source": [
    "Q6. Why is it important to understand the level of measurement when analyzing data? Provide an\n",
    "example to illustrate your answer.\n",
    "ans:-Knowing the level of measurement of your variables is important for two reasons. Each of the levels of measurement provides a different level of detail.\n",
    "Nominal provides the least amount of detail, ordinal provides the next highest amount of detail, and interval and ratio provide the most amount of detail."
   ]
  },
  {
   "cell_type": "code",
   "execution_count": null,
   "id": "ef4f35ac-6df6-49af-b7ff-dde736221b32",
   "metadata": {},
   "outputs": [],
   "source": [
    "Q7. How nominal data type is different from ordinal data type.\n",
    "ans:-Nominal data is classified without a order or rank, whereas ordinal data has a order or rank."
   ]
  },
  {
   "cell_type": "code",
   "execution_count": null,
   "id": "376e3ed6-bfc5-44d9-bb72-b975766c7bbc",
   "metadata": {},
   "outputs": [],
   "source": [
    "Q8. Which type of plot can be used to display data in terms of range?\n",
    "ans:-histogram plot can be used to display data in terms of range"
   ]
  },
  {
   "cell_type": "code",
   "execution_count": null,
   "id": "9146d20a-bb00-41fe-a10c-a67a269ae168",
   "metadata": {},
   "outputs": [],
   "source": [
    "Q9. Describe the difference between descriptive and inferential statistics. Give an example of each\n",
    "type of statistics and explain how they are used.\n",
    "ans:-Descriptive Statistics\n",
    "1)\tIt gives information about raw data which describes the data in some manner.\n",
    "2)\tIt helps in organizing, analyzing, and to present data in a meaningful manner.\n",
    "3)It can be achieved with the help of charts, graphs, tables, etc.\n",
    "\n",
    "Inferential Statistics\n",
    "1)It makes inferences about the population using data drawn from the population.\n",
    "2)It allows us to compare data, and make hypotheses and predictions.\n",
    "3)It can be achieved by probability."
   ]
  },
  {
   "cell_type": "code",
   "execution_count": null,
   "id": "1ee88fb2-cbd3-41b4-8547-c8c69f061fcb",
   "metadata": {},
   "outputs": [],
   "source": [
    "Q10. What are some common measures of central tendency and variability used in statistics? Explain\n",
    "how each measure can be used to describe a dataset.\n",
    "ans:-The three commonly used measures of central tendency are the mean, median, and mode.\n",
    "Mean:- mean is the arithmetic average\n",
    "Median:-median is the middle value\n",
    "Mode:-mode is the value that occurs the most frequently in your data set"
   ]
  }
 ],
 "metadata": {
  "kernelspec": {
   "display_name": "Python 3 (ipykernel)",
   "language": "python",
   "name": "python3"
  },
  "language_info": {
   "codemirror_mode": {
    "name": "ipython",
    "version": 3
   },
   "file_extension": ".py",
   "mimetype": "text/x-python",
   "name": "python",
   "nbconvert_exporter": "python",
   "pygments_lexer": "ipython3",
   "version": "3.10.8"
  }
 },
 "nbformat": 4,
 "nbformat_minor": 5
}
